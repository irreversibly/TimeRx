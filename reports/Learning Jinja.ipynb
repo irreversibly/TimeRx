{
 "cells": [
  {
   "cell_type": "code",
   "execution_count": 1,
   "metadata": {},
   "outputs": [],
   "source": [
    "from jinja2 import Template"
   ]
  },
  {
   "cell_type": "code",
   "execution_count": 2,
   "metadata": {},
   "outputs": [],
   "source": [
    "t = Template(\"Hello {{ something }}!\")"
   ]
  },
  {
   "cell_type": "code",
   "execution_count": 3,
   "metadata": {},
   "outputs": [
    {
     "data": {
      "text/plain": [
       "u'Hello Test!'"
      ]
     },
     "execution_count": 3,
     "output_type": "execute_result",
     "metadata": {}
    }
   ],
   "source": [
    "t.render(something='Test')"
   ]
  },
  {
   "cell_type": "code",
   "execution_count": 4,
   "metadata": {},
   "outputs": [
    {
     "data": {
      "text/plain": [
       "u'My favorite numbers: 1 2 3 4 5 6 7 8 9 '"
      ]
     },
     "execution_count": 4,
     "output_type": "execute_result",
     "metadata": {}
    }
   ],
   "source": [
    "t = Template(\"My favorite numbers: {% for n in range(1,10) %}{{n}} \" \"{% endfor %}\")\n",
    ">>> t.render()\n",
    "u'My favorite numbers: 1 2 3 4 5 6 7 8 9 '"
   ]
  },
  {
   "cell_type": "code",
   "execution_count": 5,
   "metadata": {},
   "outputs": [],
   "source": [
    "import flask"
   ]
  },
  {
   "cell_type": "code",
   "execution_count": 6,
   "metadata": {},
   "outputs": [
    {
     "name": "stdout",
     "output_type": "stream",
     "text": [
      "/bin/sh: virtualenv: command not found\r\n"
     ]
    }
   ],
   "source": [
    "!virtualenv /Users/dhruvachandramohan/GitHub/BetterMedTime/"
   ]
  },
  {
   "cell_type": "code",
   "execution_count": 8,
   "metadata": {},
   "outputs": [
    {
     "name": "stdout",
     "output_type": "stream",
     "text": [
      "Collecting virtualenv\n",
      "  Downloading virtualenv-14.0.6-py2.py3-none-any.whl (1.8MB)\n",
      "\u001b[K    100% |████████████████████████████████| 1.8MB 151kB/s \n",
      "\u001b[?25hInstalling collected packages: virtualenv\n",
      "Successfully installed virtualenv-14.0.6\n",
      "\u001b[33mYou are using pip version 8.0.3, however version 8.1.0 is available.\n",
      "You should consider upgrading via the 'pip install --upgrade pip' command.\u001b[0m\n"
     ]
    }
   ],
   "source": [
    "!pip install virtualenv"
   ]
  },
  {
   "cell_type": "code",
   "execution_count": 9,
   "metadata": {},
   "outputs": [
    {
     "name": "stdout",
     "output_type": "stream",
     "text": [
      "New python executable in /Users/dhruvachandramohan/GitHub/BetterMedTime/bin/python\n",
      "Installing setuptools, pip, wheel...\n",
      "  Complete output from command /Users/dhruvachandra...erMedTime/bin/python -c \"import sys, pip; sys...d\\\"] + sys.argv[1:]))\" setuptools pip wheel:\n",
      "  Traceback (most recent call last):\n",
      "  File \"<string>\", line 1, in <module>\n",
      "  File \"//anaconda/lib/python2.7/site-packages/virtualenv_support/pip-8.0.2-py2.py3-none-any.whl/pip/__init__.py\", line 13, in <module>\n",
      "  File \"//anaconda/lib/python2.7/site-packages/virtualenv_support/pip-8.0.2-py2.py3-none-any.whl/pip/utils/__init__.py\", line 18, in <module>\n",
      "  File \"//anaconda/lib/python2.7/zipfile.py\", line 6, in <module>\n",
      "    import io\n",
      "  File \"//anaconda/lib/python2.7/io.py\", line 51, in <module>\n",
      "    import _io\n",
      "ImportError: dlopen(/Users/dhruvachandramohan/GitHub/BetterMedTime/lib/python2.7/lib-dynload/_io.so, 2): Symbol not found: __PyCodecInfo_GetIncrementalDecoder\n",
      "  Referenced from: /Users/dhruvachandramohan/GitHub/BetterMedTime/lib/python2.7/lib-dynload/_io.so\n",
      "  Expected in: dynamic lookup\n",
      "\n",
      "----------------------------------------\n",
      "...Installing setuptools, pip, wheel...done.\n",
      "Traceback (most recent call last):\n",
      "  File \"//anaconda/bin/virtualenv\", line 11, in <module>\n",
      "    sys.exit(main())\n",
      "  File \"//anaconda/lib/python2.7/site-packages/virtualenv.py\", line 705, in main\n",
      "    symlink=options.symlink)\n",
      "  File \"//anaconda/lib/python2.7/site-packages/virtualenv.py\", line 924, in create_environment\n",
      "    download=download,\n",
      "  File \"//anaconda/lib/python2.7/site-packages/virtualenv.py\", line 877, in install_wheel\n",
      "    call_subprocess(cmd, show_stdout=False, extra_env=env)\n",
      "  File \"//anaconda/lib/python2.7/site-packages/virtualenv.py\", line 783, in call_subprocess\n",
      "    % (cmd_desc, proc.returncode))\n",
      "OSError: Command /Users/dhruvachandra...erMedTime/bin/python -c \"import sys, pip; sys...d\\\"] + sys.argv[1:]))\" setuptools pip wheel failed with error code 1\n"
     ]
    }
   ],
   "source": [
    "!virtualenv /Users/dhruvachandramohan/GitHub/BetterMedTime/"
   ]
  },
  {
   "cell_type": "code",
   "execution_count": 10,
   "metadata": {},
   "outputs": [],
   "source": [
    "import _io"
   ]
  },
  {
   "cell_type": "code",
   "execution_count": 12,
   "metadata": {},
   "outputs": [
    {
     "data": {
      "text/plain": [
       "'//anaconda/lib/python2.7/lib-dynload/_io.so'"
      ]
     },
     "execution_count": 12,
     "output_type": "execute_result",
     "metadata": {}
    }
   ],
   "source": [
    "_io.__file__"
   ]
  },
  {
   "cell_type": "code",
   "execution_count": null,
   "metadata": {},
   "outputs": [
    {
     "name": "stdout",
     "output_type": "stream",
     "text": [
      "Using Anaconda Cloud api site https://api.anaconda.org\n",
      "Fetching package metadata: ....\n",
      "Solving package specifications: ...........\n",
      "\n",
      "Package plan for installation in environment //anaconda/envs/testing:\n",
      "\n",
      "The following packages will be downloaded:\n",
      "\n",
      "    package                    |            build\n",
      "    ---------------------------|-----------------\n",
      "    werkzeug-0.11.4            |           py27_0         391 KB\n",
      "\n",
      "The following NEW packages will be INSTALLED:\n",
      "\n",
      "    flask:        0.10.1-py27_1\n",
      "    itsdangerous: 0.24-py27_0  \n",
      "    jinja2:       2.8-py27_0   \n",
      "    markupsafe:   0.23-py27_0  \n",
      "    openssl:      1.0.2g-0     \n",
      "    pip:          8.0.3-py27_0 \n",
      "    python:       2.7.11-0     \n",
      "    readline:     6.2-2        \n",
      "    setuptools:   20.1.1-py27_0\n",
      "    sqlite:       3.9.2-0      \n",
      "    tk:           8.5.18-0     \n",
      "    werkzeug:     0.11.4-py27_0\n",
      "    wheel:        0.29.0-py27_0\n",
      "    zlib:         1.2.8-0      \n",
      "\n",
      "Proceed ([y]/n)? "
     ]
    }
   ],
   "source": [
    "!conda create --name testing jinja2 Flask"
   ]
  },
  {
   "cell_type": "code",
   "execution_count": null,
   "metadata": {},
   "outputs": [],
   "source": [
    ""
   ]
  }
 ],
 "metadata": {
  "kernelspec": {
   "display_name": "Python 2",
   "language": "python",
   "name": "python2"
  },
  "language_info": {
   "codemirror_mode": {
    "name": "ipython",
    "version": 2.0
   },
   "file_extension": ".py",
   "mimetype": "text/x-python",
   "name": "python",
   "nbconvert_exporter": "python",
   "pygments_lexer": "ipython2",
   "version": "2.7.11"
  }
 },
 "nbformat": 4,
 "nbformat_minor": 0
}